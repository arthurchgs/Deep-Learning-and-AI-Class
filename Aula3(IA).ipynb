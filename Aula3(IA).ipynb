{
  "nbformat": 4,
  "nbformat_minor": 0,
  "metadata": {
    "colab": {
      "provenance": []
    },
    "kernelspec": {
      "name": "python3",
      "display_name": "Python 3"
    },
    "language_info": {
      "name": "python"
    }
  },
  "cells": [
    {
      "cell_type": "code",
      "execution_count": null,
      "metadata": {
        "colab": {
          "base_uri": "https://localhost:8080/"
        },
        "id": "reBZ2YKPjgwq",
        "outputId": "be70d534-85a4-4cdc-c8eb-9ec8aa6fc5d6"
      },
      "outputs": [
        {
          "output_type": "stream",
          "name": "stdout",
          "text": [
            "1\n",
            "2\n"
          ]
        }
      ],
      "source": [
        "class Produto():\n",
        "  def __init__(self, id, nome, preco, descricao):\n",
        "    self.__id = id\n",
        "    self.nome = nome\n",
        "    self.preco = preco\n",
        "    self.decricao = descricao\n",
        "\n",
        "  @property #modifica o método para ser um getter\n",
        "  def id(self):\n",
        "    return self.__id\n",
        "\n",
        "  @id.setter\n",
        "  def id(self, novo_id):\n",
        "    self.__id = novo_id #modifica o método para ser um setter\n",
        "\n",
        "\n",
        "ps5 = Produto(1, \"Playstation 5\", 4000, \"Melhor video game do mundo\")\n",
        "print(ps5.id )\n",
        "ps5.id = 2\n",
        "print(ps5.id )"
      ]
    },
    {
      "cell_type": "markdown",
      "source": [
        "Exercicio: crie uma classe para armazenar dados de um cliente de um banco de dados. O cliente tem nome, telefone, CPF, email e endereço. Além disso, tem  um saldo inicial. O cliente pode efetuar um saque, depósito ou conferir o saldo"
      ],
      "metadata": {
        "id": "GLFE1NPolM6x"
      }
    },
    {
      "cell_type": "code",
      "source": [
        "class Cliente():\n",
        "  def __init__(self, cpf, nome, endereco, telefone, email, saldo_inicial=0.0, senha=\"123\"):\n",
        "    self.nome = nome\n",
        "    self.telefone = telefone\n",
        "    self.__cpf = cpf\n",
        "    self.email = email\n",
        "    self.endereco = endereco\n",
        "    self.__saldo = saldo_inicial\n",
        "    self.__senha = senha\n",
        "\n",
        "  def depositar(self, valor):\n",
        "      if valor > 0:\n",
        "        self.__saldo += valor\n",
        "        print(f\"Deposito de R${valor} efertuado com sucesso\")\n",
        "      else:\n",
        "        print(\"Impossivel fazer o deposito\")\n",
        "\n",
        "  def sacar(self, valor, senha):\n",
        "    if senha == self.__senha:\n",
        "      print(\"Senha OK!\")\n",
        "      if valor <= self.__saldo:\n",
        "        if valor > 0:\n",
        "          self.__saldo -= valor\n",
        "          print(\"Saque efetuado com sucesso!\")\n",
        "        else:\n",
        "          print(\"Valor inválido! O saque deve ser maior que zero\")\n",
        "      else:\n",
        "        print(\"Saldo insuficiente!\")\n",
        "    else:\n",
        "      print(\"Senha Inválida!\")\n",
        "\n",
        "  def visualizar_saldo(self, senha):\n",
        "    if senha == self.__senha:\n",
        "      print(f\"Seu saldo atual é R${self.__saldo}\")\n",
        "    else :\n",
        "      print(\"Senha Invalida!\")\n",
        "\n",
        "\n"
      ],
      "metadata": {
        "id": "m9WZQ6xUkyrK"
      },
      "execution_count": null,
      "outputs": []
    },
    {
      "cell_type": "code",
      "source": [
        "cliente1 = Cliente(\"123\", \"Gilberto\", \"Av Paulista, 12345\", \"(11)9999999\", \"gil@gmail.com\", 100000, \"456\")"
      ],
      "metadata": {
        "id": "dXrrFPb7yTRO"
      },
      "execution_count": null,
      "outputs": []
    },
    {
      "cell_type": "code",
      "source": [
        "cliente1.visualizar_saldo(\"456\")"
      ],
      "metadata": {
        "colab": {
          "base_uri": "https://localhost:8080/"
        },
        "id": "Xts77dAQzXYO",
        "outputId": "84a2d206-2988-4903-eca0-3dc085a591d3"
      },
      "execution_count": null,
      "outputs": [
        {
          "output_type": "stream",
          "name": "stdout",
          "text": [
            "Seu saldo atual é R$100000\n"
          ]
        }
      ]
    },
    {
      "cell_type": "code",
      "source": [],
      "metadata": {
        "id": "iI1Gu4U70tBs"
      },
      "execution_count": null,
      "outputs": []
    },
    {
      "cell_type": "code",
      "source": [
        "cliente2 = Cliente(\"123\", \"Astrogildo\", \"Rua x\", \"(11)99993499\", \"astrogilodo@gmail.com\", 56400, \"456\")"
      ],
      "metadata": {
        "id": "FMkC04jc0lFc"
      },
      "execution_count": null,
      "outputs": []
    },
    {
      "cell_type": "code",
      "source": [
        "cliente2.visualizar_saldo(\"456\")"
      ],
      "metadata": {
        "colab": {
          "base_uri": "https://localhost:8080/"
        },
        "id": "0MRk5TYf1UE0",
        "outputId": "3f754a4b-cd2d-4711-cdb1-0164baaa20e5"
      },
      "execution_count": null,
      "outputs": [
        {
          "output_type": "stream",
          "name": "stdout",
          "text": [
            "Seu saldo atual é R$56400\n"
          ]
        }
      ]
    },
    {
      "cell_type": "markdown",
      "source": [],
      "metadata": {
        "id": "bjWN1GnK1pIT"
      }
    },
    {
      "cell_type": "code",
      "source": [
        "cliente2.depositar(100000)"
      ],
      "metadata": {
        "colab": {
          "base_uri": "https://localhost:8080/"
        },
        "id": "l3Hkckl91gLb",
        "outputId": "4b739ab0-3b71-4090-9997-fd75e4b6b920"
      },
      "execution_count": null,
      "outputs": [
        {
          "output_type": "stream",
          "name": "stdout",
          "text": [
            "Deposito de R$100000 efertuado com sucesso\n"
          ]
        }
      ]
    },
    {
      "cell_type": "code",
      "source": [
        "cliente2.visualizar_saldo(\"456\")"
      ],
      "metadata": {
        "colab": {
          "base_uri": "https://localhost:8080/"
        },
        "id": "AtJ7trSi1tt7",
        "outputId": "69385685-e85f-41d2-8645-c859c29836b4"
      },
      "execution_count": null,
      "outputs": [
        {
          "output_type": "stream",
          "name": "stdout",
          "text": [
            "Seu saldo atual é R$156400\n"
          ]
        }
      ]
    },
    {
      "cell_type": "code",
      "source": [
        "cliente2.sacar(300,\"456\")"
      ],
      "metadata": {
        "colab": {
          "base_uri": "https://localhost:8080/"
        },
        "id": "-gv9ckAW1xXL",
        "outputId": "425c6e00-094d-40d6-e3c5-ee8e4b096131"
      },
      "execution_count": null,
      "outputs": [
        {
          "output_type": "stream",
          "name": "stdout",
          "text": [
            "Senha OK!\n",
            "Saque efetuado com sucesso!\n"
          ]
        }
      ]
    },
    {
      "cell_type": "code",
      "source": [
        "cliente2.visualizar_saldo(\"456\")"
      ],
      "metadata": {
        "colab": {
          "base_uri": "https://localhost:8080/"
        },
        "id": "-dNPZ9zK15S7",
        "outputId": "93fca596-f2f1-456e-9787-cfd3d3f00eb5"
      },
      "execution_count": null,
      "outputs": [
        {
          "output_type": "stream",
          "name": "stdout",
          "text": [
            "Seu saldo atual é R$156100\n"
          ]
        }
      ]
    },
    {
      "cell_type": "markdown",
      "source": [
        "Heraça em python, usando classes que tem atributos iguais"
      ],
      "metadata": {
        "id": "MblEPRaB4ICq"
      }
    },
    {
      "cell_type": "code",
      "source": [
        "class Animal():\n",
        "  def __init__(self, nome, cor):\n",
        "    self.nome = nome\n",
        "    self.cor = cor\n",
        "\n",
        "  def correr(self):\n",
        "    print(\"corri...\")\n",
        "\n",
        "class Gato(Animal): #Gato herda do Animal\n",
        "  def __init__(self, nome, cor, qtd_garras):\n",
        "    super().__init__(nome, cor) #Construtor do Animal\n",
        "    self.garras = qtd_garras #atributo especializado da classe gato\n",
        "\n",
        "  def miar(self): #método especializado\n",
        "    print(\"Miaaau\")\n",
        "\n",
        "class Burro(Animal):\n",
        "  def __init__(self, nome, cor, qtd_cascos):\n",
        "    super().__init__(nome, cor)\n",
        "    self.cascos = qtd_cascos #atributo especializado da classe Burro\n",
        "\n",
        "  def relinchar(self): #método especializado\n",
        "    print(\"inhóoooó inhóóó\")\n"
      ],
      "metadata": {
        "id": "bv1rPJCG4Qsx"
      },
      "execution_count": null,
      "outputs": []
    },
    {
      "cell_type": "code",
      "source": [
        "gatinho1 = Gato(\"Frajola\", \"Preto e Branco\", 20)\n",
        "burrinho1 = Burro(\"Pé de pano\", \"Cinza\", 4)\n",
        "\n",
        "burrinho1.correr()"
      ],
      "metadata": {
        "colab": {
          "base_uri": "https://localhost:8080/"
        },
        "id": "ctOJhgzEFGgN",
        "outputId": "1b2a275a-9672-4acd-d000-67accc8efa3c"
      },
      "execution_count": null,
      "outputs": [
        {
          "output_type": "stream",
          "name": "stdout",
          "text": [
            "corri...\n"
          ]
        }
      ]
    },
    {
      "cell_type": "markdown",
      "source": [
        "Refaça o exercicio anterior, porém agora o terá dois tipos de cliente:\n",
        "- PessoaFisica\n",
        "- PessoaJuridica\n",
        "\n",
        "PessoaFisica tem cpf, nome, enderço, telefone, email, saldo e senha\n",
        "\n",
        "PessoaJuridica tem cnpj, razão social, endereço, telefone, email, saldo e senha."
      ],
      "metadata": {
        "id": "wFp_C1JJHMmt"
      }
    },
    {
      "cell_type": "code",
      "source": [
        "class Cliente():\n",
        "  def __init__(self, endereco, telefone, email, saldo_inicial=0.0, senha=\"123\"): #SEMPRE AS VARIAVEIS OPCIONAIS FICAM NO FINAL\n",
        "    self.telefone = telefone\n",
        "    self.email = email\n",
        "    self.endereco = endereco\n",
        "    self.__saldo = saldo_inicial\n",
        "    self.__senha = senha\n",
        "\n",
        "  def depositar(self, valor):\n",
        "      if valor > 0:\n",
        "        self.__saldo += valor\n",
        "        print(f\"Deposito de R${valor} efertuado com sucesso\")\n",
        "      else:\n",
        "        print(\"Impossivel fazer o deposito\")\n",
        "\n",
        "  def sacar(self, valor, senha):\n",
        "    if senha == self.__senha:\n",
        "      print(\"Senha OK!\")\n",
        "      if valor <= self.__saldo:\n",
        "        if valor > 0:\n",
        "          self.__saldo -= valor\n",
        "          print(\"Saque efetuado com sucesso!\")\n",
        "        else:\n",
        "          print(\"Valor inválido! O saque deve ser maior que zero\")\n",
        "      else:\n",
        "        print(\"Saldo insuficiente!\")\n",
        "    else:\n",
        "      print(\"Senha Inválida!\")\n",
        "\n",
        "  def visualizar_saldo(self, senha):\n",
        "    if senha == self.__senha:\n",
        "      print(f\"Seu saldo atual é R${self.__saldo}\")\n",
        "    else :\n",
        "      print(\"Senha Invalida!\")\n",
        "\n",
        "\n",
        "class PessoaJuridica(Cliente):\n",
        "  def __init__(self, endereco, telefone, email, razao_social, cnpj, saldo_inicial=0.0, senha=\"123\"): #SEMPRE AS VARIAVEIS OPCIONAIS FICAM NO FINAL\n",
        "    super().__init__(endereco, telefone, email, saldo_inicial, senha)\n",
        "    self.razao_social = razao_social\n",
        "    self.__cnpj = cnpj\n",
        "\n",
        "\n",
        "class PessoaFisica(Cliente):\n",
        "  def __init__(self, endereco, telefone, email, nome, cpf, saldo_inicial=0.0, senha=\"123\"): #SEMPRE AS VARIAVEIS OPCIONAIS FICAM NO FINAL\n",
        "    super().__init__(endereco, telefone, email, saldo_inicial, senha)\n",
        "    self.nome = nome\n",
        "    self.__cpf = cpf\n",
        "\n",
        "\n",
        "\n",
        "\n",
        "\n",
        "\n"
      ],
      "metadata": {
        "id": "4JKfLyZ-H49k"
      },
      "execution_count": null,
      "outputs": []
    },
    {
      "cell_type": "code",
      "source": [
        "empresa1 = PessoaJuridica(\"Rua Sla\", \"(11) 23450099\", \"empresateste@uol.com.br\", \"Empresa LTDA\", \"2311\")\n"
      ],
      "metadata": {
        "id": "OKy0b7n3L0WI"
      },
      "execution_count": null,
      "outputs": []
    },
    {
      "cell_type": "code",
      "source": [
        "empresa1.visualizar_saldo(\"123\")"
      ],
      "metadata": {
        "colab": {
          "base_uri": "https://localhost:8080/"
        },
        "id": "4a1FqsSvMPqX",
        "outputId": "98c2c654-c084-4f85-f73b-49cbd992f8a2"
      },
      "execution_count": null,
      "outputs": [
        {
          "output_type": "stream",
          "name": "stdout",
          "text": [
            "Seu saldo atual é R$0.0\n"
          ]
        }
      ]
    },
    {
      "cell_type": "code",
      "source": [
        "empresa1.depositar(1200)"
      ],
      "metadata": {
        "colab": {
          "base_uri": "https://localhost:8080/"
        },
        "id": "xOmgCgTMOqVt",
        "outputId": "235c80ed-093c-47bb-ae92-04ee940ff44d"
      },
      "execution_count": null,
      "outputs": [
        {
          "output_type": "stream",
          "name": "stdout",
          "text": [
            "Deposito de R$1200 efertuado com sucesso\n"
          ]
        }
      ]
    },
    {
      "cell_type": "code",
      "source": [
        "empresa1.sacar(100,\"123\")"
      ],
      "metadata": {
        "colab": {
          "base_uri": "https://localhost:8080/"
        },
        "id": "02Gq0TB2OwK1",
        "outputId": "54370ca9-c12a-4d6c-d60a-291d8829009e"
      },
      "execution_count": null,
      "outputs": [
        {
          "output_type": "stream",
          "name": "stdout",
          "text": [
            "Senha OK!\n",
            "Saque efetuado com sucesso!\n"
          ]
        }
      ]
    },
    {
      "cell_type": "code",
      "source": [
        "cliente3 = PessoaFisica(\"Rua 3\", \"(11) 98777621\", \"cliente3@gmail.com\", \"Sla\", \"213.202.012-11\", 1000, \"456\")"
      ],
      "metadata": {
        "id": "DMfqgVZGO1fu"
      },
      "execution_count": null,
      "outputs": []
    },
    {
      "cell_type": "code",
      "source": [
        "cliente3.visualizar_saldo(\"456\")"
      ],
      "metadata": {
        "colab": {
          "base_uri": "https://localhost:8080/"
        },
        "id": "2H8gmrQePUMF",
        "outputId": "76cc3943-0a4a-420a-c4e4-6415b111352a"
      },
      "execution_count": null,
      "outputs": [
        {
          "output_type": "stream",
          "name": "stdout",
          "text": [
            "Seu saldo atual é R$1000\n"
          ]
        }
      ]
    },
    {
      "cell_type": "code",
      "source": [
        "cliente3.sacar(110,\"456\")"
      ],
      "metadata": {
        "colab": {
          "base_uri": "https://localhost:8080/"
        },
        "id": "BkaEZedfPbBV",
        "outputId": "cfe0f8bc-db89-42fc-9c13-1be2a8034fcf"
      },
      "execution_count": null,
      "outputs": [
        {
          "output_type": "stream",
          "name": "stdout",
          "text": [
            "Senha OK!\n",
            "Saque efetuado com sucesso!\n"
          ]
        }
      ]
    },
    {
      "cell_type": "code",
      "source": [
        "cliente3.visualizar_saldo(\"456\")"
      ],
      "metadata": {
        "colab": {
          "base_uri": "https://localhost:8080/"
        },
        "id": "949-YxIkPhN1",
        "outputId": "037f0543-e204-45ae-a893-149f6977a24c"
      },
      "execution_count": null,
      "outputs": [
        {
          "output_type": "stream",
          "name": "stdout",
          "text": [
            "Seu saldo atual é R$890\n"
          ]
        }
      ]
    },
    {
      "cell_type": "code",
      "source": [
        "cliente3.depositar(3444)"
      ],
      "metadata": {
        "colab": {
          "base_uri": "https://localhost:8080/"
        },
        "id": "r3DBN2VCPkNV",
        "outputId": "a9557a7d-4a12-4f04-f5a7-f19b22fd35c8"
      },
      "execution_count": null,
      "outputs": [
        {
          "output_type": "stream",
          "name": "stdout",
          "text": [
            "Deposito de R$3444 efertuado com sucesso\n"
          ]
        }
      ]
    },
    {
      "cell_type": "code",
      "source": [
        "cliente3.visualizar_saldo(\"456\")"
      ],
      "metadata": {
        "colab": {
          "base_uri": "https://localhost:8080/"
        },
        "id": "K847K4tAPp9k",
        "outputId": "c0b9efbd-ec6c-46d2-89d7-4355fb6bad2f"
      },
      "execution_count": null,
      "outputs": [
        {
          "output_type": "stream",
          "name": "stdout",
          "text": [
            "Seu saldo atual é R$4334\n"
          ]
        }
      ]
    }
  ]
}